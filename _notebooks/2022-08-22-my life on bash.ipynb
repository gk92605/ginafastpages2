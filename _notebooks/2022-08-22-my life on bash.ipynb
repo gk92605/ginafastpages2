{
 "cells": [
  {
   "cell_type": "markdown",
   "metadata": {},
   "source": [
    "# My Life on Bash!\n",
    "> Bash is a shell that operates outside the kernel that helps people work with computers.  A kernel (MacOS, Windows, Linux) is started when you boots up your computer. To activate the shell directly, users will run a \"terminal\" through the Desktop, VS Code or activate \"console\" while on a cloud computer like AWS.\n",
    "\n",
    "- toc: true\n",
    "- comments: true\n",
    "- badges: true\n",
    "- permalink: /techtalk/bash\n",
    "- image: /images/bash.jpeg\n",
    "- categories: [techtalk]"
   ]
  },
  {
   "cell_type": "markdown",
   "metadata": {},
   "source": [
    "## How to use Bash on Jupyter\n",
    "> You can use a Bash Cheat sheet [Bash Cheat Sheet](https://www.pcwdld.com/bash-cheat-sheet)\n",
    "\n",
    "> Install the Bash Kernel for Jupyter notebooks. \n",
    "\n",
    "- pip install bash_kernel\n",
    "- python -m bash_kernel.install\n",
    "\n",
    "Selecting a kernel in \"code --project--\" or \"jupyter notebook --file.ipynb--\" that have bash in options.\n",
    "![](images/kernels.png)\n"
   ]
  },
  {
   "cell_type": "markdown",
   "metadata": {},
   "source": [
    "## How to set up a Project Directory\n",
    "> Pull code from git to your machine, which creates a project directory with APCSP added to it. The pull can only work if it did not already pre-exist.\n",
    "\n",
    "- Hack: Change variables, make new directory, clone to that directory."
   ]
  },
  {
   "cell_type": "code",
   "execution_count": null,
   "metadata": {
    "vscode": {
     "languageId": "shellscript"
    }
   },
   "outputs": [],
   "source": [
    "echo \"Using conditional statement to create a project directory and project\"\n",
    "\n",
    "# Variable section\n",
    "export project_dir=$HOME/vscode  # change vscode to different name to test git clone\n",
    "export project=$project_dir/APCSP  # change APCSP to name of project from git clone\n",
    "export project_repo=\"https://github.com/nighthawkcoders/APCSP.git\"  # change to project of choice\n",
    "\n",
    "cd ~    # start in home directory\n",
    "\n",
    "# Conditional block to make a project directory\n",
    "if [ ! -d $project_dir ]\n",
    "then \n",
    "    echo \"Directory $project_dir does not exists... makinng directory $project_dir\"\n",
    "    mkdir -p $project_dir\n",
    "fi\n",
    "echo \"Directory $project_dir exists.\" \n",
    "\n",
    "# Conditional block to git clone a project from project_repo\n",
    "if [ ! -d $project ]\n",
    "then\n",
    "    echo \"Directory $project does not exists... cloning $project_repo\"\n",
    "    cd $project_dir\n",
    "    git clone $project_repo\n",
    "    cd ~\n",
    "fi\n",
    "echo \"Directory $project exists.\" "
   ]
  },
  {
   "cell_type": "markdown",
   "metadata": {},
   "source": [
    "### Look inside Fastpages/Github page project\n",
    "> All computers contain files and directories.  The clone brought more files from cloud to your machine.  Using the bash shell you will see some commands that show and interact with files and directories.\n",
    "\n",
    "- \"ls\" lists computer files in Unix and Unix-like operating systems\n",
    "- \"cd\" offers way to navigate and change working directory\n",
    "- \"pwd\" print working directory\n",
    "- \"echo\" used to display line of text/string that are passed as an argument"
   ]
  },
  {
   "cell_type": "code",
   "execution_count": 1,
   "metadata": {
    "vscode": {
     "languageId": "shellscript"
    }
   },
   "outputs": [
    {
     "name": "stdout",
     "output_type": "stream",
     "text": [
      "Navigate to project, then navigate to area wwhere files were cloned\n",
      "/Users/ginakim\n",
      "\n",
      "list top level or root of files with project pulled from github\n",
      "Applications\tDownloads\tMovies\t\tPublic\t\tvscodee\n",
      "Desktop\t\tIdeaProjects\tMusic\t\topt\t\tvscodex\n",
      "Documents\tLibrary\t\tPictures\tvscode\t\tvscoe\n",
      "\n",
      "list again with hidden files pulled from github\n",
      ".\t\t\t.continuum\t\tDesktop\n",
      "..\t\t\t.cups\t\t\tDocuments\n",
      ".CFUserTextEncoding\t.gitconfig\t\tDownloads\n",
      ".DS_Store\t\t.idlerc\t\t\tIdeaProjects\n",
      ".Trash\t\t\t.ipython\t\tLibrary\n",
      ".anaconda\t\t.jupyter\t\tMovies\n",
      ".android\t\t.node-gyp\t\tMusic\n",
      ".bash_history\t\t.npm\t\t\tPictures\n",
      ".bash_profile\t\t.oracle_jre_usage\tPublic\n",
      ".bash_profile.pysave\t.tcshrc\t\t\topt\n",
      ".bash_sessions\t\t.vscode\t\t\tvscode\n",
      ".conda\t\t\t.xonshrc\t\tvscodee\n",
      ".condarc\t\t.zshrc\t\t\tvscodex\n",
      ".config\t\t\tApplications\t\tvscoe\n",
      "\n",
      "list all files in long format\n",
      "total 120\n",
      "drwxr-xr-x+  42 ginakim  staff   1344 Aug 25 12:20 .\n",
      "drwxr-xr-x    5 root     admin    160 Mar 17  2020 ..\n",
      "-r--------    1 ginakim  staff      7 Sep 30  2020 .CFUserTextEncoding\n",
      "-rw-r--r--@   1 ginakim  staff  12292 Aug 21 18:00 .DS_Store\n",
      "drwx------@  14 ginakim  staff    448 Aug 28 07:44 .Trash\n",
      "drwxr-xr-x    3 ginakim  staff     96 Aug 18 11:38 .anaconda\n",
      "drwxr-xr-x    2 ginakim  staff     64 Jun 25  2021 .android\n",
      "-rw-------    1 ginakim  staff   9957 Aug 26 11:46 .bash_history\n",
      "-rw-r--r--    1 ginakim  staff    841 Aug 18 12:02 .bash_profile\n",
      "-rw-r--r--    1 ginakim  staff    673 Aug 18 11:38 .bash_profile.pysave\n",
      "drwx------   69 ginakim  staff   2208 Aug 25 12:22 .bash_sessions\n",
      "drwxr-xr-x    3 ginakim  staff     96 Aug 24 12:55 .conda\n",
      "-rw-r--r--    1 ginakim  staff     23 Aug 18 11:41 .condarc\n",
      "drwxr-xr-x    4 ginakim  staff    128 Aug 24 12:58 .config\n",
      "drwxr-xr-x    3 ginakim  staff     96 Aug 18 11:39 .continuum\n",
      "drwx------    3 ginakim  staff     96 Aug 21  2019 .cups\n",
      "-rw-r--r--    1 ginakim  staff     52 Aug 21 20:29 .gitconfig\n",
      "drwxr-xr-x    3 ginakim  staff     96 Aug 19 11:27 .idlerc\n",
      "drwxr-xr-x    5 ginakim  staff    160 Aug 25 11:19 .ipython\n",
      "drwxr-xr-x    3 ginakim  staff     96 Aug 23 12:04 .jupyter\n",
      "drwxr-xr-x    3 ginakim  staff     96 Aug 24 13:00 .node-gyp\n",
      "drwxr-xr-x    7 ginakim  staff    224 Aug 25 11:48 .npm\n",
      "drwxr-xr-x    3 ginakim  staff     96 Jun 25  2021 .oracle_jre_usage\n",
      "-rw-r--r--    1 ginakim  staff    323 Aug 18 11:38 .tcshrc\n",
      "drwxr-xr-x    4 ginakim  staff    128 Aug 18 02:38 .vscode\n",
      "-rw-r--r--    1 ginakim  staff    606 Aug 18 11:38 .xonshrc\n",
      "-rw-r--r--    1 ginakim  staff    502 Aug 18 11:38 .zshrc\n",
      "drwx------@   5 ginakim  staff    160 Aug 18 11:54 Applications\n",
      "drwx------@  10 ginakim  staff    320 Aug 23 11:59 Desktop\n",
      "drwx------@  15 ginakim  staff    480 Jul 29 06:16 Documents\n",
      "drwx------@ 771 ginakim  staff  24672 Aug 28 07:44 Downloads\n",
      "drwxr-xr-x    3 ginakim  staff     96 Jun 25  2021 IdeaProjects\n",
      "drwx------@  79 ginakim  staff   2528 Aug 21 18:56 Library\n",
      "drwx------+   5 ginakim  staff    160 Aug 18 11:51 Movies\n",
      "drwx------+   5 ginakim  staff    160 Apr  3  2020 Music\n",
      "drwx------+   6 ginakim  staff    192 Jul  2  2020 Pictures\n",
      "drwxr-xr-x+   4 ginakim  staff    128 Jun 13  2019 Public\n",
      "drwxr-xr-x    3 ginakim  staff     96 Aug 18 11:26 opt\n",
      "drwxr-xr-x    5 ginakim  staff    160 Aug 21 20:21 vscode\n",
      "drwxr-xr-x    2 ginakim  staff     64 Aug 21 17:45 vscodee\n",
      "drwxr-xr-x    2 ginakim  staff     64 Aug 25 12:21 vscodex\n",
      "drwxr-xr-x    2 ginakim  staff     64 Aug 21 17:37 vscoe\n"
     ]
    }
   ],
   "source": [
    "# You must run cells above to define variable and project\n",
    "\n",
    "echo \"Navigate to project, then navigate to area wwhere files were cloned\"\n",
    "cd $project\n",
    "pwd\n",
    "\n",
    "echo \"\"\n",
    "echo \"list top level or root of files with project pulled from github\"\n",
    "ls\n",
    "\n",
    "echo \"\"\n",
    "echo \"list again with hidden files pulled from github\"\n",
    "ls -a   # hidden files flag, many shell commands have flags\n",
    "\n",
    "echo \"\"\n",
    "echo \"list all files in long format\"\n",
    "ls -al   # all files and long listing"
   ]
  },
  {
   "cell_type": "code",
   "execution_count": null,
   "metadata": {
    "vscode": {
     "languageId": "shellscript"
    }
   },
   "outputs": [],
   "source": [
    "# You must run cells above to define variable and project\n",
    "\n",
    "echo \"Look for posts\"\n",
    "export posts=$project/_posts  # _posts inside project\n",
    "cd $posts  # this should exist per fastpages\n",
    "pwd  # present working directory\n",
    "ls -l  # list posts"
   ]
  },
  {
   "cell_type": "code",
   "execution_count": null,
   "metadata": {
    "vscode": {
     "languageId": "shellscript"
    }
   },
   "outputs": [],
   "source": [
    "# You must run cells above to define variable and project\n",
    "\n",
    "echo \"Look for notebooks\"\n",
    "export notebooks=$project/_notebooks  # _notebooks is inside project\n",
    "cd $notebooks   # this should exist per fastpages\n",
    "pwd  # present working directory\n",
    "ls -l  # list notebooks"
   ]
  },
  {
   "cell_type": "code",
   "execution_count": null,
   "metadata": {
    "vscode": {
     "languageId": "shellscript"
    }
   },
   "outputs": [],
   "source": [
    "# You must run cells above to define notebooks location\n",
    "\n",
    "echo \"Look for images in notebooks, print working directory, list files\"\n",
    "cd $notebooks/images  # this should exist per fastpages\n",
    "pwd\n",
    "ls -l"
   ]
  },
  {
   "cell_type": "markdown",
   "metadata": {},
   "source": [
    "### Look inside a Markdown File\n",
    "> \"cat\" reads data from the file and gives its content as output"
   ]
  },
  {
   "cell_type": "code",
   "execution_count": null,
   "metadata": {
    "vscode": {
     "languageId": "shellscript"
    }
   },
   "outputs": [],
   "source": [
    "# You must run cells above to define project\n",
    "echo \"Navigate to project, then navigate to area wwhere files were cloned\"\n",
    "\n",
    "cd $project\n",
    "echo \"show the contents of README.md\"\n",
    "echo \"\"\n",
    "\n",
    "cat README.md  # show contents of file, in this case markdown\n",
    "echo \"\"\n",
    "echo \"end of README.md\"\n"
   ]
  },
  {
   "cell_type": "markdown",
   "metadata": {},
   "source": [
    "### Env, Git and GitHub\n",
    "> Env(ironment) is used to capture things like path to Code or Home directory.  Git and GitHub can also be used to exchange code through servers, in our case deployment for Website.   All tools we use have a behind the scenes hav relationship with the system they run on (MacOS, Windows, Linus) or a relationship with servers which they are connected to (ie GitHub).  There is an \"env\" command in bash.  There are environment files and setting files (.git/config) for Git.  They both use a key/value concept.\n",
    "\n",
    "- \"env\" show setting for your shell\n",
    "- \"git clone\" sets up a director of files\n",
    "- \"cd $project\" allows user to move inside that directory of files\n",
    "- \".git\" is a hidden directory that is used by git to establish relationship between machine and the git server on GitHub.  "
   ]
  },
  {
   "cell_type": "code",
   "execution_count": 2,
   "metadata": {
    "vscode": {
     "languageId": "shellscript"
    }
   },
   "outputs": [
    {
     "name": "stdout",
     "output_type": "stream",
     "text": [
      "Show the shell environment variables, key on left of equal value on right\n",
      "\n",
      "SHELL=/bin/bash\n",
      "TMPDIR=/var/folders/zc/l7m4hw457mq4l39_j3y2qc1w0000gn/T/\n",
      "CONDA_SHLVL=1\n",
      "PYTHONUNBUFFERED=1\n",
      "CONDA_PROMPT_MODIFIER=(base) \n",
      "OLDPWD=/Users/ginakim/vscode/ginafastpages/_notebooks\n",
      "ORIGINAL_XDG_CURRENT_DESKTOP=undefined\n",
      "MallocNanoZone=0\n",
      "PYTHONIOENCODING=utf-8\n",
      "USER=ginakim\n",
      "CONDA_EXE=/Users/ginakim/opt/anaconda3/bin/conda\n",
      "SSH_AUTH_SOCK=/private/tmp/com.apple.launchd.4xLzmWxnqv/Listeners\n",
      "__CF_USER_TEXT_ENCODING=0x1F5:0x0:0x0\n",
      "PAGER=cat\n",
      "VSCODE_AMD_ENTRYPOINT=vs/workbench/api/node/extensionHostProcess\n",
      "ELECTRON_RUN_AS_NODE=1\n",
      "_CE_CONDA=\n",
      "PATH=/Library/Frameworks/Python.framework/Versions/2.7/bin:/Users/ginakim/opt/anaconda3/bin:/Users/ginakim/opt/anaconda3/condabin:/Library/Frameworks/Python.framework/Versions/3.10/bin:/usr/local/bin:/usr/bin:/bin:/usr/sbin:/sbin\n",
      "CONDA_PREFIX=/Users/ginakim/opt/anaconda3\n",
      "PWD=/Users/ginakim\n",
      "VSCODE_HANDLES_UNCAUGHT_ERRORS=true\n",
      "XPC_FLAGS=0x0\n",
      "PS1=[PEXP\\[\\]ECT_PROMPT>\n",
      "_CE_M=\n",
      "XPC_SERVICE_NAME=0\n",
      "SHLVL=2\n",
      "HOME=/Users/ginakim\n",
      "APPLICATION_INSIGHTS_NO_DIAGNOSTIC_CHANNEL=1\n",
      "VSCODE_NLS_CONFIG={\"locale\":\"en-us\",\"availableLanguages\":{},\"_languagePackSupport\":true}\n",
      "CONDA_PYTHON_EXE=/Users/ginakim/opt/anaconda3/bin/python\n",
      "LOGNAME=ginakim\n",
      "VSCODE_IPC_HOOK=/Users/ginakim/Library/Application Support/Code/1.70.2-main.sock\n",
      "VSCODE_CODE_CACHE_PATH=/Users/ginakim/Library/Application Support/Code/CachedData/e4503b30fc78200f846c62cf8091b76ff5547662\n",
      "CONDA_DEFAULT_ENV=base\n",
      "VSCODE_PID=1281\n",
      "VSCODE_CWD=/\n",
      "_=/usr/bin/env\n"
     ]
    }
   ],
   "source": [
    "# This command has no dependencies\n",
    "\n",
    "echo \"Show the shell environment variables, key on left of equal value on right\"\n",
    "echo \"\"\n",
    "\n",
    "env"
   ]
  },
  {
   "cell_type": "code",
   "execution_count": null,
   "metadata": {
    "vscode": {
     "languageId": "shellscript"
    }
   },
   "outputs": [],
   "source": [
    "# This command has dependencies on project\n",
    "\n",
    "cd $project\n",
    "\n",
    "echo \"\"\n",
    "echo \"show the secrets of .git\"\n",
    "cd .git\n",
    "ls -l\n",
    "\n",
    "echo \"\"\n",
    "echo \"look at config file\"\n",
    "cat config"
   ]
  }
 ],
 "metadata": {
  "kernelspec": {
   "display_name": "Bash",
   "language": "bash",
   "name": "bash"
  },
  "language_info": {
   "codemirror_mode": "shell",
   "file_extension": ".sh",
   "mimetype": "text/x-sh",
   "name": "bash"
  },
  "orig_nbformat": 4,
  "vscode": {
   "interpreter": {
    "hash": "8b82d5009c68ba5675978267e2b13a671f2a7143d61273c5a3813c97e0b2493d"
   }
  }
 },
 "nbformat": 4,
 "nbformat_minor": 2
}
