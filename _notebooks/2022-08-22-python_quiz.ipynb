{
 "cells": [
  {
   "cell_type": "markdown",
   "metadata": {},
   "source": [
    "# Introduction to Python Quiz\n",
    "> This quiz will focus on College Board vocabulary and examples using Variables, Assignments, Functions, and Selection.\n",
    "\n",
    "- title: Intro to Python\n",
    "- toc: true\n",
    "- comments: true\n",
    "- image: /images/python_basics_cheat_sheet.webp\n",
    "- permalink: /collegeboard/python\n",
    "- categories: [collegeboard]\n",
    "- tags: [python]"
   ]
  },
  {
   "cell_type": "markdown",
   "metadata": {},
   "source": [
    "### Print command using Static Text which performs output\n",
    "In Python, to output a written message, you use a print() statement.   \n",
    "- \"Hello, World\" is a String referred to as <mark>Static text</mark>, because it does not change.\n",
    "- \"Hello, World\" is a parameter to the print command.\n",
    "- The <mark>print command </mark> outputs the parameter to the terminal, as you see it in this Jupyter document\n",
    "- <mark>Output</mark> in Jupyter Notebook is below the code cell. Python print typically outputs to a terminal. "
   ]
  },
  {
   "cell_type": "code",
   "execution_count": 1,
   "metadata": {},
   "outputs": [
    {
     "name": "stdout",
     "output_type": "stream",
     "text": [
      "Welcome to Python\n"
     ]
    }
   ],
   "source": [
    "print(\"Welcome to Python\")"
   ]
  },
  {
   "cell_type": "markdown",
   "metadata": {},
   "source": [
    "### Variables: input and output\n",
    "This second example is a <mark>sequence (two+ lines) of code.</mark>  This takes input from the user and stores the input into the variable msg (message), and outputs the msg to terminal.  - This example is <mark>Dynamic </mark> because the input and output can change.\n",
    "- A variable \"msg\" is part of both statement \n",
    "    - The variable \"msg\" captures the input command\n",
    "    - The variable \"msg\" is used as a <mark>parameter to print command</mark>, causing input to be output to terminal, or in Jupyter Notebook below the code cell.\n",
    "\n",
    "- The \"input\" command activates the jupyter notebook input box, which receives the user's input. \n",
    "- The print command outputs the \"msg\" variable from the input statement\n",
    "    - msg is a <mark>parameter of the print function</mark>  \n",
    "- <mark>Input and Output</mark> in Jupyter Notebook Input is NOT in line with Output.  Input and Output varies depending on tools and development intentions. Python print typically obtains input and outputs to a terminal."
   ]
  },
  {
   "cell_type": "code",
   "execution_count": 1,
   "metadata": {},
   "outputs": [
    {
     "name": "stdout",
     "output_type": "stream",
     "text": [
      "Hi! Nice to meet you!\n"
     ]
    }
   ],
   "source": [
    "msg = input(\"Enter a greeting: \")\n",
    "print(msg)"
   ]
  },
  {
   "cell_type": "markdown",
   "metadata": {},
   "source": [
    "### Building a Function\n",
    "This adds to the basics of the <mark>Python anatomy</mark>, a function. Input, output, and grouping commands in functions is the key to most programming languages.   \n",
    "- The \"def question_and_answer(prompt)\" contains multiple indented commands.\n",
    "- Grouping a sequence of commands, often repeatedly, is called <mark>procedural abstraction</mark>.\n",
    "- Procedure, Function, def are all synonyms in the Python language. \n",
    "- The <mark>\"def\" is a key word in Python that defines a function</mark>.  Using this keyword defines a group of commands, but does not run them initially. \n",
    "\n",
    "\n",
    "- The name of the function in this example is \"question_and_answer\".  In essence, we are defining our own command within the Python language.\n",
    "- The three \"question_and_answer\" commands that follow the function and indented commands allow this function to be run.\n",
    "- This code run multiple times, each command line providing a unique \"prompt\" as a result of the literal parameter passed to the function.\n",
    "- The <mark>function takes a parameter</mark> called \"prompt\", which is a message output to the user to describe the input requested.  \n",
    "- <mark>String concatenation</mark> \"+\" prefixes the prompt with the literal message \"Question: \".\n",
    "- The \"msg\" variable is captured as a result of the jupyter notebook input supplied by the user\n",
    "- The input \"msg\" is output back to the user with \"Answer: \" concatenated to the front."
   ]
  },
  {
   "cell_type": "code",
   "execution_count": 5,
   "metadata": {},
   "outputs": [
    {
     "name": "stdout",
     "output_type": "stream",
     "text": [
      "Question: What is the process of grouping a sequence of commnads?\n",
      "Answer: procedural abstraction\n",
      "Question: If you see many lines of code in order, what would College Board call it?\n",
      "Answer: sequence\n",
      "Question: Describe a keyword used in Python to define a function?\n",
      "Answer: def\n",
      "Question: What is a dynamic function?\n",
      "Answer: a function that changes\n"
     ]
    }
   ],
   "source": [
    "def question_and_answer(prompt):\n",
    "    print(\"Question: \" + prompt)\n",
    "    msg = input()\n",
    "    print(\"Answer: \" + msg)\n",
    "\n",
    "question_and_answer(\"What is the process of grouping a sequence of commnads?\")\n",
    "question_and_answer(\"If you see many lines of code in order, what would College Board call it?\")\n",
    "question_and_answer(\"Describe a keyword used in Python to define a function?\")\n",
    "question_and_answer(\"What is a dynamic function?\")"
   ]
  },
  {
   "cell_type": "markdown",
   "metadata": {},
   "source": [
    "### Imports, Selection, and Logical Expressions\n",
    "In Python anatomy of you will be <mark>importing libraries and functions</mark>.  This is code that is developed by others.  We will import from a library called \"os\", this library extracts properties from the operating system of your existing system.  This example also uses the custom function defined earlier in the Jupyter document.  Python and Jupyter docs requires you to reference imports and definitions above the referencing line of code.\n",
    "- import os, sys obtain functions and variables from running environment\n",
    "- print('Hello, ' + getpass.getuser() + \" running \" + sys.executable + \" on \" + sys.platform + \"!\"), is a concatenated statement that outputs properties from the import\n",
    "\n",
    "Next, this example defines a new function \"question_with_response\", <mark>this function returns a value</mark> input by the user.  This allows programmer to evaluate the response.  The purpose of obtaining the return value is to evaluate if correct response was given to the question.\n",
    "- response from \"question_with_response\" is captured in a variable called \"rsp\"\n",
    "    - return command in function returns msg input by user\n",
    "    - assignment to \"rsp\" is allowed a function is returning a value, names do not need to match (but could)\n",
    "- <mark>if command</mark> is next command in sequence after \"rsp\" assignment\n",
    "   - this command contains an expression, rsp == \"import\" which compare what is typed to the string literal answer\n",
    "   - an <mark>if expression</mark> is evaluated for true or false\n",
    "   - true takes branch of code directly under if\n",
    "   - false takes branch of code directly under <mark>else command</mark>\n",
    "\n",
    "The grand finally of this example is calculating the right/total.\n",
    "- question = 3 is defined as number of questions\n",
    "- correct = 0 is defined as running score\n",
    "- correct += 1 is the way to add one to the score, this code is placed in sequence under correct expression evaluation\n",
    "- since question and correct are numbers, versus strings, to place them in concatenation in print statements you must inclose them in Python <mark>function str()</mark> which turns number into string.\n",
    "- final print statement is concatenated and formatted to give user and right over wrong"
   ]
  },
  {
   "cell_type": "code",
   "execution_count": 8,
   "metadata": {},
   "outputs": [
    {
     "name": "stdout",
     "output_type": "stream",
     "text": [
      "Hello, ginakim running /usr/local/bin/python3\n",
      "You will be asked 5 questions.\n",
      "Question: Are you ready to take a test?\n",
      "Answer: yes\n",
      "Question: What command is used to include other functions that were previously developed?\n",
      "import is correct!\n",
      "Question: What command is used to evaluate correct or incorrect response in this example?\n",
      "if is correct!\n",
      "Question: Each 'if' command contains an '_________' to determine a true or false condition?\n",
      "expression is correct!\n",
      "Question: What statement turns a number into a string?\n",
      "function str() is correct!\n",
      "Question: How was this quiz on Python? - hint: include a :)\n",
      "good :) is correct!\n",
      "ginakim you scored 5/5\n"
     ]
    }
   ],
   "source": [
    "import getpass, sys\n",
    "\n",
    "def question_with_response(prompt):\n",
    "    print(\"Question: \" + prompt)\n",
    "    msg = input()\n",
    "    return msg\n",
    "\n",
    "questions = 5\n",
    "correct = 0\n",
    "\n",
    "print('Hello, ' + getpass.getuser() + \" running \" + sys.executable)\n",
    "print(\"You will be asked \" + str(questions) + \" questions.\")\n",
    "question_and_answer(\"Are you ready to take a test?\")\n",
    "\n",
    "rsp = question_with_response(\"What command is used to include other functions that were previously developed?\")\n",
    "if rsp == \"import\":\n",
    "    print(rsp + \" is correct!\")\n",
    "    correct += 1\n",
    "else:\n",
    "    print(rsp + \" is incorrect!\")\n",
    "\n",
    "rsp = question_with_response(\"What command is used to evaluate correct or incorrect response in this example?\")\n",
    "if rsp == \"if\":\n",
    "    print(rsp + \" is correct!\")\n",
    "    correct += 1\n",
    "else:\n",
    "    print(rsp + \" is incorrect!\")\n",
    "\n",
    "rsp = question_with_response(\"Each 'if' command contains an '_________' to determine a true or false condition?\")\n",
    "if rsp == \"expression\":\n",
    "    print(rsp + \" is correct!\")\n",
    "    correct += 1\n",
    "else:\n",
    "    print(rsp + \" is incorrect!\")\n",
    "\n",
    "rsp = question_with_response(\"What statement turns a number into a string?\")\n",
    "if rsp == \"function str()\":\n",
    "    print(rsp + \" is correct!\")\n",
    "    correct += 1\n",
    "else:\n",
    "    print(rsp + \" is incorrect!\")        \n",
    "\n",
    "rsp = question_with_response(\"How was this quiz on Python? - hint: include a :)\") \n",
    "if rsp == \"good :)\":\n",
    "    print(rsp + \" is correct!\") \n",
    "    correct += 1  \n",
    "else:\n",
    "    print(rsp + \" is incorrect!\")    \n",
    "\n",
    "print(getpass.getuser() + \" you scored \" + str(correct) +\"/\" + str(questions))"
   ]
  }
 ],
 "metadata": {
  "kernelspec": {
   "display_name": "Python 3.10.6 64-bit",
   "language": "python",
   "name": "python3"
  },
  "language_info": {
   "codemirror_mode": {
    "name": "ipython",
    "version": 3
   },
   "file_extension": ".py",
   "mimetype": "text/x-python",
   "name": "python",
   "nbconvert_exporter": "python",
   "pygments_lexer": "ipython3",
   "version": "3.10.6"
  },
  "vscode": {
   "interpreter": {
    "hash": "aee8b7b246df8f9039afb4144a1f6fd8d2ca17a180786b69acc140d282b71a49"
   }
  }
 },
 "nbformat": 4,
 "nbformat_minor": 2
}
